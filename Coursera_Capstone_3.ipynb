{
    "cells": [
        {
            "cell_type": "markdown",
            "metadata": {
                "collapsed": true
            },
            "source": "# Final Assigment \"Applied Data Science Capstone\""
        },
        {
            "cell_type": "markdown",
            "metadata": {},
            "source": "## Part 1 \n## Introduction/Business Problem "
        },
        {
            "cell_type": "markdown",
            "metadata": {},
            "source": "In Santiago, Chile we have a lot of districts, some of them similar and some different, we want to open a new commerce and have acceptance from the people of the district. In this work, we are going to determine in which district of Santiago of Chile are possibilities to open new commerce and what type. \nTo do that:\n- First, we are going to understand all the districts (32) in the region. For that we get data from diverse sources, like the government, paper, etc.\n- Second, we are to classify the district. We are going use deferments algorithm to know which one is the best fit (Clustering, K-Means) to understand which districts are similar and why (for example 5 districts are urban, medium income, high educated).\n- Third for every district we explore the total number of commerce\u2019s and the types of each one.\n- Fourth we divide the number of commerce\u2019s in the population of the district, so we can compare (for example, in District 1 are 3 Sushi places for 10.000 people, and in the District 2 are 10 Sushi places for 10.000 people).\n- Fifth for every classification set we compare the top 10 commerce type, so we can understand in which district are low / high in some type of commerce when they are compared with similar districts.\n"
        },
        {
            "cell_type": "markdown",
            "metadata": {},
            "source": "## Part 2\n## Data "
        },
        {
            "cell_type": "markdown",
            "metadata": {},
            "source": "For this analysis we are going to need different types of data, probably we are going to improve in the way. For the data in each step we are going to use:\n- Districts with an API of the Chilean Government. https://apis.digital.gob.cl/dpa/\n- Income, education, nationality, type of zone (urban/rural) with data of INE (National Institute of Statistics). https://www.ine.cl/docs/default-source/encuesta-suplementaria-de-ingresos/bbdd/manual-y-gu%C3%ADa-de-variables/2018/manual_esi_2018_personas.pdf?sfvrsn=861e6f8e_3\n- Other data from different sources, density, average age, life expectative, green areas. http://www.sinim.gov.cl/, http://www.ochisap.cl/images/SocioEconominoSaludComunas.pdf, http://siedu.ine.cl/descargar/descarga.html. \n- For the best algorithm to get the best fit, we are going to use the accuracy of the model and our knowledge.\n- For exploring the district commerce, we use Foursquare API. \n- Population of each district. https://es.wikipedia.org/wiki/Anexo:Comunas_de_Chile_por_poblaci%C3%B3n\n"
        },
        {
            "cell_type": "code",
            "execution_count": null,
            "metadata": {},
            "outputs": [],
            "source": ""
        }
    ],
    "metadata": {
        "kernelspec": {
            "display_name": "Python 3.6",
            "language": "python",
            "name": "python3"
        },
        "language_info": {
            "codemirror_mode": {
                "name": "ipython",
                "version": 3
            },
            "file_extension": ".py",
            "mimetype": "text/x-python",
            "name": "python",
            "nbconvert_exporter": "python",
            "pygments_lexer": "ipython3",
            "version": "3.6.9"
        }
    },
    "nbformat": 4,
    "nbformat_minor": 1
}